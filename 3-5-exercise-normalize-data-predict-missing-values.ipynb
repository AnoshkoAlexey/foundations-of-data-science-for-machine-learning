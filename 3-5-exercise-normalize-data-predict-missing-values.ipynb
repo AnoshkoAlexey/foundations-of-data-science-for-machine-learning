{
  "cells": [
    {
      "cell_type": "markdown",
      "source": [
        "# Exercise: Titanic Dataset - Visualising Different Types of Data\n",
        "\n",
        "To build better machine learning models we have to understand the data we are working with. This usually means both:\n",
        "\n",
        "1. visualising the data\n",
        "\n",
        "2. understanding the kind of data we are working with \n",
        "\n",
        "In this module we'll practice cleaning our Titanic dataset and visualising different kinds of data, particularly those that are continuous, ordinal, categorical, or simply identity columns.\n",
        "\n",
        "## A Note On Our Graphing\n",
        "\n",
        "In this exercise we'll be using a custom python script to create our graphs. This uses a well known graphing library called Plotly. \n",
        "\n",
        "We use this script to help you focus on learning data exploration rather than getting bogged down in understanding Plotly. If you would like to look at the code for this custom script, you can find it in our GitHub repository.\n",
        "\n",
        "## First Inspection\n",
        "\n",
        "Let's reload the Titanic Dataset and reacquaint ourselves with its data:\n"
      ],
      "metadata": {}
    },
    {
      "cell_type": "code",
      "source": [
        "import pandas as pd\n",
        "\n",
        "# Load data from our dataset file into a pandas dataframe\n",
        "!wget https://raw.githubusercontent.com/MicrosoftDocs/mslearn-introduction-to-machine-learning/main/Data/titanic.csv\n",
        "!wget https://raw.githubusercontent.com/MicrosoftDocs/mslearn-introduction-to-machine-learning/main/graphing.py\n",
        "dataset = pd.read_csv('titanic.csv', index_col=False, sep=\",\", header=0)\n",
        "\n",
        "# Let's take a look at the data\n",
        "dataset.head()\n"
      ],
      "outputs": [],
      "execution_count": null,
      "metadata": {}
    },
    {
      "cell_type": "markdown",
      "source": [
        "Take a careful look at the columns and see if you can identify which columns hold continuous, ordinal, categorical, or identity data.\n",
        "\n",
        "We can display a brief summary of the _dataypes_ by using panda's `info()` method:"
      ],
      "metadata": {}
    },
    {
      "cell_type": "code",
      "source": [
        "dataset.info()"
      ],
      "outputs": [],
      "execution_count": null,
      "metadata": {}
    },
    {
      "cell_type": "markdown",
      "source": [
        "We can see that several columns are stored as numerical data (those with `int64` or `float64` types), while others contain more complex data types (those with `object` as Dtype)\n",
        "\n",
        "## Visualising Ordinal Data\n",
        "\n",
        "Let's start by visualising some ordinal data. We have available:\n",
        "\n",
        "1. `Pclass` - the ticket class\n",
        "2. `Parch` - the number of parents or children on the ship\n",
        "3. `sibsp` - the number of siblings or spouses on the ship\n",
        "\n",
        "Ordinal data can be viewed in almost any kind of graph.  \n",
        "Let's start with a simple histogram that describing relationships between the ticket class and the likelihood of survival."
      ],
      "metadata": {}
    },
    {
      "cell_type": "code",
      "source": [
        "import graphing\n",
        "\n",
        "graphing.histogram(dataset, label_x='Pclass', label_y='Survived', histfunc='avg', include_boxplot=True)\n"
      ],
      "outputs": [],
      "execution_count": null,
      "metadata": {}
    },
    {
      "cell_type": "markdown",
      "source": [
        "The box and whisker plot (top) shows that at least half the people had third-class tickets - notice how the median and maximum of the plot both sit at `Pclass = 3`.\n",
        "\n",
        "The histogram shows us that people in second and third class tended not to survive the wreck.\n",
        "\n",
        "Let's look at how survival varies, depending on whether you had parents or children on the ship"
      ],
      "metadata": {}
    },
    {
      "cell_type": "code",
      "source": [
        "graphing.multiple_histogram(dataset, \n",
        "                            label_x='Pclass', # group by ticket class\n",
        "                            label_group=\"Parch\", # colour by no parents or children\n",
        "                            label_y='Survived', \n",
        "                            histfunc=\"avg\")"
      ],
      "outputs": [],
      "execution_count": null,
      "metadata": {}
    },
    {
      "cell_type": "markdown",
      "source": [
        "For first and second class ticket holders, people in larger family groups appear to have had better rates of survival. This doesn't seem to be the case for third class passengers, though.\n",
        "\n",
        "Lastly, let's see if those with different ticket types tended to be in different sized families. A box and whisker is a nice alternative to histograms when we want to look at the spread of data.\n"
      ],
      "metadata": {}
    },
    {
      "cell_type": "code",
      "source": [
        "graphing.box_and_whisker(dataset, label_x=\"Pclass\", label_y=\"SibSp\")"
      ],
      "outputs": [],
      "execution_count": null,
      "metadata": {}
    },
    {
      "cell_type": "markdown",
      "source": [
        "Most values are zero. This tells us most people were travelling without siblings and without a partner. There are no obvious differences in this value between the different ticket classes.\n",
        "\n",
        "## Visualising Continuous Data\n",
        "\n",
        "_Continuous_ data are usually best viewed using either:\n",
        "\n",
        "1. An XY scatter plot, particularly for relationships between two continuous features\n",
        "2. Histograms or Box and Whisker plots, to look at the spread of data\n",
        "\n",
        "Our dataset has `Age` and `Fare` as continuous data columns. Let's view them:"
      ],
      "metadata": {}
    },
    {
      "cell_type": "code",
      "source": [
        "graphing.scatter_2D(dataset, label_x=\"Age\", label_y=\"Fare\")"
      ],
      "outputs": [],
      "execution_count": null,
      "metadata": {}
    },
    {
      "cell_type": "markdown",
      "source": [
        "There isn't an obvious relationship between `Age` and `Fare`. \n",
        "\n",
        "Does the cost of a fare or the person's age have any relationship with likelihood of survival?"
      ],
      "metadata": {}
    },
    {
      "cell_type": "code",
      "source": [
        "# Plot Fare vs Survival\n",
        "graphing.histogram(dataset, label_x=\"Fare\", label_y=\"Survived\", histfunc=\"avg\", nbins=30, title=\"Fare vs Survival\", include_boxplot=True, show=True)\n",
        "\n",
        "# Plot Age vs Survival\n",
        "graphing.histogram(dataset, label_x=\"Age\", label_y=\"Survived\", histfunc=\"avg\", title=\"Age vs Survival\", nbins=30, include_boxplot=True)\n"
      ],
      "outputs": [],
      "execution_count": null,
      "metadata": {}
    },
    {
      "cell_type": "markdown",
      "source": [
        "Our first figure's boxplot (top) shows us that most people held tickets costing less than £25, and the histogram shows us that people with more expensive tickets tended to survive.\n",
        "\n",
        "Our second figure indicates passengers were about 30yo on average, and that most children under 10yo survived, unlike most adults.\n",
        "\n",
        "\n",
        "## Visualising Categorical Data\n",
        "\n",
        "Our Titanic dataset have the following _categorical_ columns:\n",
        "* `Sex` (Male, Female)\n",
        "* `Embarked` - the port of ambarkation (C, Q, or S)\n",
        "* `Cabin` (many options)\n",
        "* `Survival` (0 = no, 1 = yes)\n",
        "\n",
        "Categorical data are usually viewable in a similar way to ordinal data, but with data viewed as order-less groups. Alternatively, categories appear as colours or groups in other kinds of plots.\n",
        "\n",
        "Plotting categorical data against other categorical data lets us see how data is clustered. This is little more than a coloured table. Let's do this now:"
      ],
      "metadata": {}
    },
    {
      "cell_type": "code",
      "source": [
        "import plotly.graph_objects as go\n",
        "import numpy as np\n",
        "\n",
        "# Create some simple functions\n",
        "# Read their descriptions to find out more \n",
        "def get_rows(sex, port):\n",
        "    '''Returns rows that match in terms of sex and embarkment port'''\n",
        "    return dataset[(dataset.Embarked == port) & (dataset.Sex == sex)]\n",
        "\n",
        "def proportion_survived(sex, port):\n",
        "    '''Returns the proportion of people meeting criteria who survived'''\n",
        "    survived = get_rows(sex, port).Survived\n",
        "    return np.mean(survived)\n",
        "\n",
        "# Make two columns of data - together these represent each combination\n",
        "# of sex and embarkment port\n",
        "sexes = [\"male\", \"male\", \"male\", \"female\",\"female\", \"female\"]\n",
        "ports = [\"C\", \"Q\", \"S\" ] * 2\n",
        "\n",
        "# Calculate the number of passengers at each port + sex combination\n",
        "passenger_count = [len(get_rows(sex, port)) for sex,port in zip(sexes, ports)]\n",
        "\n",
        "# Calculate the proportion of passengers from each port + sex combination who survived\n",
        "passenger_survival = [proportion_survived(sex, port) for sex,port in zip(sexes, ports)]\n",
        "\n",
        "# Combine into a single data frame\n",
        "table = pd.DataFrame(dict(\n",
        "    sex=sexes,\n",
        "    port=ports,\n",
        "    passenger_count=passenger_count,\n",
        "    passenger_survival_rate=passenger_survival\n",
        "))\n",
        "\n",
        "# Make a bubble plot\n",
        "# This is just a scatter plot but each entry in the plot \n",
        "# has a size and colour. We set colour to passenger_survival \n",
        "# and size to the number of passengers \n",
        "graphing.scatter_2D(table, \n",
        "                    label_colour=\"passenger_survival_rate\", \n",
        "                    label_size=\"passenger_count\", \n",
        "                    size_multiplier=0.3,\n",
        "                    title=\"Bubble Plot of Categorical Data\")"
      ],
      "outputs": [],
      "execution_count": null,
      "metadata": {}
    },
    {
      "cell_type": "markdown",
      "source": [
        "Looks like women have a much higher survival rate than men, but there were more men on the ship. \n",
        "\n",
        "We can also see that most people boarded at Port `S` (\"Southampton\"). It does seem that there is a weak relationship between the port of boarding and survival.\n",
        "\n",
        "## Summary\n",
        "\n",
        "You've learned about different types of data and practiced exploring data through graphs.\n",
        "\n",
        "Through these, we've discovered that some features are related to others, and that survival rate seems to be influenced by many features."
      ],
      "metadata": {}
    }
  ],
  "metadata": {
    "kernelspec": {
      "name": "conda-env-py38_default-py",
      "language": "python",
      "display_name": "py38_default"
    },
    "language_info": {
      "name": "python",
      "version": "3.7.9",
      "mimetype": "text/x-python",
      "codemirror_mode": {
        "name": "ipython",
        "version": 3
      },
      "pygments_lexer": "ipython3",
      "nbconvert_exporter": "python",
      "file_extension": ".py"
    },
    "kernel_info": {
      "name": "conda-env-py38_default-py"
    },
    "nteract": {
      "version": "nteract-front-end@1.0.0"
    }
  },
  "nbformat": 4,
  "nbformat_minor": 2
}
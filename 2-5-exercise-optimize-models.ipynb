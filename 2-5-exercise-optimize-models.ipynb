{
  "cells": [
    {
      "cell_type": "markdown",
      "source": [
        "# Exercise: Supervised learning by using different cost functions\r\n",
        "\r\n",
        "In this exercise, we'll have a deeper look at how cost functions can change:\r\n",
        "\r\n",
        "* How well models appear to have fit data.\r\n",
        "* The kinds of relationships a model represents.\r\n",
        "\r\n",
        "## Loading the data\r\n",
        "\r\n",
        "Let's start by loading the data. To make this exercise simpler, we'll use only a few datapoints this time."
      ],
      "metadata": {},
      "id": "c6a05a4d-a48d-40bf-bcf6-8cdcb5595c36"
    },
    {
      "cell_type": "code",
      "source": [
        "import pandas\r\n",
        "!wget https://raw.githubusercontent.com/MicrosoftDocs/mslearn-introduction-to-machine-learning/main/graphing.py\r\n",
        "!wget https://raw.githubusercontent.com/MicrosoftDocs/mslearn-introduction-to-machine-learning/main/microsoft_custom_linear_regressor.py\r\n",
        "!wget https://raw.githubusercontent.com/MicrosoftDocs/mslearn-introduction-to-machine-learning/main/Data/seattleWeather_1948-2017.csv\r\n",
        "from datetime import datetime\r\n",
        "\r\n",
        "# Load a file that contains our weather data\r\n",
        "dataset = pandas.read_csv('seattleWeather_1948-2017.csv', parse_dates=['date'])\r\n",
        "\r\n",
        "# Convert the dates into numbers so we can use them in our models\r\n",
        "# We make a year column that can contain fractions. For example,\r\n",
        "# 1948.5 is halfway through the year 1948\r\n",
        "dataset[\"year\"] = [(d.year + d.timetuple().tm_yday / 365.25) for d in dataset.date]\r\n",
        "\r\n",
        "\r\n",
        "# For the sake of this exercise, let's look at February 1 for the following years:\r\n",
        "desired_dates = [\r\n",
        "    datetime(1950,2,1),\r\n",
        "    datetime(1960,2,1),\r\n",
        "    datetime(1970,2,1),\r\n",
        "    datetime(1980,2,1),\r\n",
        "    datetime(1990,2,1),\r\n",
        "    datetime(2000,2,1),\r\n",
        "    datetime(2010,2,1),\r\n",
        "    datetime(2017,2,1),\r\n",
        "]\r\n",
        "\r\n",
        "dataset = dataset[dataset.date.isin(desired_dates)].copy()\r\n",
        "\r\n",
        "# Print the dataset\r\n",
        "dataset\r\n"
      ],
      "outputs": [
        {
          "output_type": "stream",
          "name": "stdout",
          "text": "--2022-12-19 22:51:08--  https://raw.githubusercontent.com/MicrosoftDocs/mslearn-introduction-to-machine-learning/main/graphing.py\nResolving raw.githubusercontent.com (raw.githubusercontent.com)... 185.199.111.133, 185.199.108.133, 185.199.109.133, ...\nConnecting to raw.githubusercontent.com (raw.githubusercontent.com)|185.199.111.133|:443... connected.\nHTTP request sent, awaiting response... 200 OK\nLength: 21511 (21K) [text/plain]\nSaving to: ‘graphing.py.2’\n\ngraphing.py.2       100%[===================>]  21.01K  --.-KB/s    in 0s      \n\n2022-12-19 22:51:08 (47.5 MB/s) - ‘graphing.py.2’ saved [21511/21511]\n\n--2022-12-19 22:51:09--  https://raw.githubusercontent.com/MicrosoftDocs/mslearn-introduction-to-machine-learning/main/microsoft_custom_linear_regressor.py\nResolving raw.githubusercontent.com (raw.githubusercontent.com)... 185.199.110.133, 185.199.109.133, 185.199.108.133, ...\nConnecting to raw.githubusercontent.com (raw.githubusercontent.com)|185.199.110.133|:443... connected.\nHTTP request sent, awaiting response... 200 OK\nLength: 2167 (2.1K) [text/plain]\nSaving to: ‘microsoft_custom_linear_regressor.py’\n\nmicrosoft_custom_li 100%[===================>]   2.12K  --.-KB/s    in 0s      \n\n2022-12-19 22:51:09 (36.8 MB/s) - ‘microsoft_custom_linear_regressor.py’ saved [2167/2167]\n\n--2022-12-19 22:51:11--  https://raw.githubusercontent.com/MicrosoftDocs/mslearn-introduction-to-machine-learning/main/Data/seattleWeather_1948-2017.csv\nResolving raw.githubusercontent.com (raw.githubusercontent.com)... 185.199.110.133, 185.199.109.133, 185.199.108.133, ...\nConnecting to raw.githubusercontent.com (raw.githubusercontent.com)|185.199.110.133|:443... connected.\nHTTP request sent, awaiting response... 200 OK\nLength: 762017 (744K) [text/plain]\nSaving to: ‘seattleWeather_1948-2017.csv.2’\n\nseattleWeather_1948 100%[===================>] 744.16K  --.-KB/s    in 0.009s  \n\n2022-12-19 22:51:11 (77.6 MB/s) - ‘seattleWeather_1948-2017.csv.2’ saved [762017/762017]\n\n"
        },
        {
          "output_type": "execute_result",
          "execution_count": 1,
          "data": {
            "text/plain": "            date  amount_of_precipitation  max_temperature  min_temperature  \\\n762   1950-02-01                     0.00               27                1   \n4414  1960-02-01                     0.15               52               44   \n8067  1970-02-01                     0.00               50               42   \n11719 1980-02-01                     0.37               54               36   \n15372 1990-02-01                     0.08               45               37   \n19024 2000-02-01                     1.34               49               41   \n22677 2010-02-01                     0.08               49               40   \n25234 2017-02-01                     0.00               43               29   \n\n        rain         year  \n762    False  1950.087611  \n4414    True  1960.087611  \n8067   False  1970.087611  \n11719   True  1980.087611  \n15372   True  1990.087611  \n19024   True  2000.087611  \n22677   True  2010.087611  \n25234  False  2017.087611  ",
            "text/html": "<div>\n<style scoped>\n    .dataframe tbody tr th:only-of-type {\n        vertical-align: middle;\n    }\n\n    .dataframe tbody tr th {\n        vertical-align: top;\n    }\n\n    .dataframe thead th {\n        text-align: right;\n    }\n</style>\n<table border=\"1\" class=\"dataframe\">\n  <thead>\n    <tr style=\"text-align: right;\">\n      <th></th>\n      <th>date</th>\n      <th>amount_of_precipitation</th>\n      <th>max_temperature</th>\n      <th>min_temperature</th>\n      <th>rain</th>\n      <th>year</th>\n    </tr>\n  </thead>\n  <tbody>\n    <tr>\n      <th>762</th>\n      <td>1950-02-01</td>\n      <td>0.00</td>\n      <td>27</td>\n      <td>1</td>\n      <td>False</td>\n      <td>1950.087611</td>\n    </tr>\n    <tr>\n      <th>4414</th>\n      <td>1960-02-01</td>\n      <td>0.15</td>\n      <td>52</td>\n      <td>44</td>\n      <td>True</td>\n      <td>1960.087611</td>\n    </tr>\n    <tr>\n      <th>8067</th>\n      <td>1970-02-01</td>\n      <td>0.00</td>\n      <td>50</td>\n      <td>42</td>\n      <td>False</td>\n      <td>1970.087611</td>\n    </tr>\n    <tr>\n      <th>11719</th>\n      <td>1980-02-01</td>\n      <td>0.37</td>\n      <td>54</td>\n      <td>36</td>\n      <td>True</td>\n      <td>1980.087611</td>\n    </tr>\n    <tr>\n      <th>15372</th>\n      <td>1990-02-01</td>\n      <td>0.08</td>\n      <td>45</td>\n      <td>37</td>\n      <td>True</td>\n      <td>1990.087611</td>\n    </tr>\n    <tr>\n      <th>19024</th>\n      <td>2000-02-01</td>\n      <td>1.34</td>\n      <td>49</td>\n      <td>41</td>\n      <td>True</td>\n      <td>2000.087611</td>\n    </tr>\n    <tr>\n      <th>22677</th>\n      <td>2010-02-01</td>\n      <td>0.08</td>\n      <td>49</td>\n      <td>40</td>\n      <td>True</td>\n      <td>2010.087611</td>\n    </tr>\n    <tr>\n      <th>25234</th>\n      <td>2017-02-01</td>\n      <td>0.00</td>\n      <td>43</td>\n      <td>29</td>\n      <td>False</td>\n      <td>2017.087611</td>\n    </tr>\n  </tbody>\n</table>\n</div>"
          },
          "metadata": {}
        }
      ],
      "execution_count": 1,
      "metadata": {},
      "id": "af9d43dc-bd7a-49f8-86da-ccdf9145e95f"
    },
    {
      "cell_type": "markdown",
      "source": [
        "## Comparing two cost functions\r\n",
        "\r\n",
        "Let's compare two common cost functions: the _sum of squared differences_ (SSD) and the _sum of absolute differences_ (SAD). They both calculate the difference between each predicted value and the expected value. The distinction is simply: \r\n",
        "\r\n",
        "* SSD squares that difference and sums the result.\r\n",
        "* SAD converts differences into absolute differences and then sums them.\r\n",
        "\r\n",
        "To see these cost functions in action, we need to first implement them:"
      ],
      "metadata": {},
      "id": "3f838565-2d6d-4463-9b01-7d5851a4bab2"
    },
    {
      "cell_type": "code",
      "source": [
        "import numpy\r\n",
        "\r\n",
        "def sum_of_square_differences(estimate, actual):\r\n",
        "    # Note that with NumPy, to square each value we use **\r\n",
        "    return numpy.sum((estimate - actual)**2)\r\n",
        "\r\n",
        "def sum_of_absolute_differences(estimate, actual):\r\n",
        "    return numpy.sum(numpy.abs(estimate - actual))"
      ],
      "outputs": [],
      "execution_count": 4,
      "metadata": {},
      "id": "7cbda931-d471-44b8-bc1e-b8f6de28cef1"
    },
    {
      "cell_type": "markdown",
      "source": [
        "They're very similar. How do they behave? Let's test with some fake model estimates.\n",
        "\n",
        "Let's say that the correct answers are `1` and `3`, but the model estimates `2` and `2`:"
      ],
      "metadata": {},
      "id": "762e5334-a0a0-4619-85de-4399dbe413c2"
    },
    {
      "cell_type": "code",
      "source": [
        "actual_label = numpy.array([1, 3])\r\n",
        "model_estimate = numpy.array([2, 2])\r\n",
        "\r\n",
        "print(\"SSD:\", sum_of_square_differences(model_estimate, actual_label))\r\n",
        "print(\"SAD:\", sum_of_absolute_differences(model_estimate, actual_label))"
      ],
      "outputs": [
        {
          "output_type": "stream",
          "name": "stdout",
          "text": "SSD: 2\nSAD: 2\n"
        }
      ],
      "execution_count": 3,
      "metadata": {},
      "id": "b96a34f5-4ebb-4e42-95dc-cceaee1fbe38"
    },
    {
      "cell_type": "markdown",
      "source": [
        "We have an error of `1` for each estimate, and both methods have returned the same error. \r\n",
        "\r\n",
        "What happens if we distribute these errors differently? Let's pretend that we estimated the first value perfectly but were off by `2` for the second value: "
      ],
      "metadata": {},
      "id": "7f3c941a-5f75-4bc3-a085-09648719259f"
    },
    {
      "cell_type": "code",
      "source": [
        "actual_label = numpy.array([1, 3])\r\n",
        "model_estimate = numpy.array([1, 1])\r\n",
        "\r\n",
        "print(\"SSD:\", sum_of_square_differences(model_estimate, actual_label))\r\n",
        "print(\"SAD:\", sum_of_absolute_differences(model_estimate, actual_label))"
      ],
      "outputs": [
        {
          "output_type": "stream",
          "name": "stdout",
          "text": "SSD: 4\nSAD: 2\n"
        }
      ],
      "execution_count": 5,
      "metadata": {},
      "id": "a5b4cdef-c896-4b7c-8727-3ba2cd84217e"
    },
    {
      "cell_type": "markdown",
      "source": [
        "SAD has calculated the same cost as before, because the average error is still the same (`1 + 1 = 0 + 2`). According to SAD, the first and second set of estimates were equally good. \r\n",
        "\r\n",
        "By contrast, SSD has given a higher (worse) cost for the second set of estimates ( $1^2 + 1^2 < 0^2 + 2^2 $ ). When we use SSD, we encourage models to be both accurate and consistent in their accuracy.\r\n",
        "\r\n",
        "\r\n",
        "## Differences in action\r\n",
        "\r\n",
        "Let's compare how our two cost functions affect model fitting.\r\n",
        "\r\n",
        "First, fit a model by using the SSD cost function:"
      ],
      "metadata": {},
      "id": "bc03f82d-55de-4794-ae02-281e0d7cb9b9"
    },
    {
      "cell_type": "code",
      "source": [
        "from microsoft_custom_linear_regressor import MicrosoftCustomLinearRegressor\r\n",
        "import graphing\r\n",
        "\r\n",
        "# Create and fit the model\r\n",
        "# We use a custom object that we've hidden from this notebook, because\r\n",
        "# you don't need to understand its details. This fits a linear model\r\n",
        "# by using a provided cost function\r\n",
        "\r\n",
        "# Fit a model by using sum of square differences\r\n",
        "model = MicrosoftCustomLinearRegressor().fit(X = dataset.year, \r\n",
        "                                             y = dataset.min_temperature, \r\n",
        "                                             cost_function = sum_of_square_differences)\r\n",
        "\r\n",
        "# Graph the model\r\n",
        "graphing.scatter_2D(dataset, \r\n",
        "                    label_x=\"year\", \r\n",
        "                    label_y=\"min_temperature\", \r\n",
        "                    trendline=model.predict)\r\n"
      ],
      "outputs": [
        {
          "output_type": "stream",
          "name": "stderr",
          "text": "/anaconda/envs/py38_default/lib/python3.8/site-packages/scipy/__init__.py:146: UserWarning: A NumPy version >=1.16.5 and <1.23.0 is required for this version of SciPy (detected version 1.23.3\n  warnings.warn(f\"A NumPy version >={np_minversion} and <{np_maxversion}\"\n"
        },
        {
          "output_type": "error",
          "ename": "AttributeError",
          "evalue": "module 'dask.array' has no attribute 'lib'",
          "traceback": [
            "\u001b[0;31m---------------------------------------------------------------------------\u001b[0m",
            "\u001b[0;31mAttributeError\u001b[0m                            Traceback (most recent call last)",
            "Input \u001b[0;32mIn [6]\u001b[0m, in \u001b[0;36m<cell line: 2>\u001b[0;34m()\u001b[0m\n\u001b[1;32m      1\u001b[0m \u001b[38;5;28;01mfrom\u001b[39;00m \u001b[38;5;21;01mmicrosoft_custom_linear_regressor\u001b[39;00m \u001b[38;5;28;01mimport\u001b[39;00m MicrosoftCustomLinearRegressor\n\u001b[0;32m----> 2\u001b[0m \u001b[38;5;28;01mimport\u001b[39;00m \u001b[38;5;21;01mgraphing\u001b[39;00m\n\u001b[1;32m      4\u001b[0m \u001b[38;5;66;03m# Create and fit the model\u001b[39;00m\n\u001b[1;32m      5\u001b[0m \u001b[38;5;66;03m# We use a custom object that we've hidden from this notebook, because\u001b[39;00m\n\u001b[1;32m      6\u001b[0m \u001b[38;5;66;03m# you don't need to understand its details. This fits a linear model\u001b[39;00m\n\u001b[1;32m      7\u001b[0m \u001b[38;5;66;03m# by using a provided cost function\u001b[39;00m\n\u001b[1;32m      8\u001b[0m \n\u001b[1;32m      9\u001b[0m \u001b[38;5;66;03m# Fit a model by using sum of square differences\u001b[39;00m\n\u001b[1;32m     10\u001b[0m model \u001b[38;5;241m=\u001b[39m MicrosoftCustomLinearRegressor()\u001b[38;5;241m.\u001b[39mfit(X \u001b[38;5;241m=\u001b[39m dataset\u001b[38;5;241m.\u001b[39myear, \n\u001b[1;32m     11\u001b[0m                                              y \u001b[38;5;241m=\u001b[39m dataset\u001b[38;5;241m.\u001b[39mmin_temperature, \n\u001b[1;32m     12\u001b[0m                                              cost_function \u001b[38;5;241m=\u001b[39m sum_of_square_differences)\n",
            "File \u001b[0;32m/learn/graphing.py:9\u001b[0m, in \u001b[0;36m<module>\u001b[0;34m\u001b[0m\n\u001b[1;32m      7\u001b[0m \u001b[38;5;28;01mfrom\u001b[39;00m \u001b[38;5;21;01mnumpy\u001b[39;00m\u001b[38;5;21;01m.\u001b[39;00m\u001b[38;5;21;01mcore\u001b[39;00m\u001b[38;5;21;01m.\u001b[39;00m\u001b[38;5;21;01mfromnumeric\u001b[39;00m \u001b[38;5;28;01mimport\u001b[39;00m repeat, shape\n\u001b[1;32m      8\u001b[0m \u001b[38;5;28;01mimport\u001b[39;00m \u001b[38;5;21;01mpandas\u001b[39;00m\n\u001b[0;32m----> 9\u001b[0m \u001b[38;5;28;01mimport\u001b[39;00m \u001b[38;5;21;01mplotly\u001b[39;00m\u001b[38;5;21;01m.\u001b[39;00m\u001b[38;5;21;01mexpress\u001b[39;00m \u001b[38;5;28;01mas\u001b[39;00m \u001b[38;5;21;01mpx\u001b[39;00m\n\u001b[1;32m     10\u001b[0m \u001b[38;5;28;01mimport\u001b[39;00m \u001b[38;5;21;01mplotly\u001b[39;00m\u001b[38;5;21;01m.\u001b[39;00m\u001b[38;5;21;01mio\u001b[39;00m \u001b[38;5;28;01mas\u001b[39;00m \u001b[38;5;21;01mpio\u001b[39;00m\n\u001b[1;32m     11\u001b[0m \u001b[38;5;28;01mimport\u001b[39;00m \u001b[38;5;21;01mplotly\u001b[39;00m\u001b[38;5;21;01m.\u001b[39;00m\u001b[38;5;21;01mgraph_objects\u001b[39;00m \u001b[38;5;28;01mas\u001b[39;00m \u001b[38;5;21;01mgraph_objects\u001b[39;00m\n",
            "File \u001b[0;32m/anaconda/envs/py38_default/lib/python3.8/site-packages/plotly/express/__init__.py:15\u001b[0m, in \u001b[0;36m<module>\u001b[0;34m\u001b[0m\n\u001b[1;32m      9\u001b[0m \u001b[38;5;28;01mif\u001b[39;00m pd \u001b[38;5;129;01mis\u001b[39;00m \u001b[38;5;28;01mNone\u001b[39;00m:\n\u001b[1;32m     10\u001b[0m     \u001b[38;5;28;01mraise\u001b[39;00m \u001b[38;5;167;01mImportError\u001b[39;00m(\n\u001b[1;32m     11\u001b[0m         \u001b[38;5;124;03m\"\"\"\\\u001b[39;00m\n\u001b[1;32m     12\u001b[0m \u001b[38;5;124;03mPlotly express requires pandas to be installed.\"\"\"\u001b[39;00m\n\u001b[1;32m     13\u001b[0m     )\n\u001b[0;32m---> 15\u001b[0m \u001b[38;5;28;01mfrom\u001b[39;00m \u001b[38;5;21;01m.\u001b[39;00m\u001b[38;5;21;01m_imshow\u001b[39;00m \u001b[38;5;28;01mimport\u001b[39;00m imshow\n\u001b[1;32m     16\u001b[0m \u001b[38;5;28;01mfrom\u001b[39;00m \u001b[38;5;21;01m.\u001b[39;00m\u001b[38;5;21;01m_chart_types\u001b[39;00m \u001b[38;5;28;01mimport\u001b[39;00m (  \u001b[38;5;66;03m# noqa: F401\u001b[39;00m\n\u001b[1;32m     17\u001b[0m     scatter,\n\u001b[1;32m     18\u001b[0m     scatter_3d,\n\u001b[0;32m   (...)\u001b[0m\n\u001b[1;32m     51\u001b[0m     density_mapbox,\n\u001b[1;32m     52\u001b[0m )\n\u001b[1;32m     55\u001b[0m \u001b[38;5;28;01mfrom\u001b[39;00m \u001b[38;5;21;01m.\u001b[39;00m\u001b[38;5;21;01m_core\u001b[39;00m \u001b[38;5;28;01mimport\u001b[39;00m (  \u001b[38;5;66;03m# noqa: F401\u001b[39;00m\n\u001b[1;32m     56\u001b[0m     set_mapbox_access_token,\n\u001b[1;32m     57\u001b[0m     defaults,\n\u001b[1;32m     58\u001b[0m     get_trendline_results,\n\u001b[1;32m     59\u001b[0m     NO_COLOR,\n\u001b[1;32m     60\u001b[0m )\n",
            "File \u001b[0;32m/anaconda/envs/py38_default/lib/python3.8/site-packages/plotly/express/_imshow.py:11\u001b[0m, in \u001b[0;36m<module>\u001b[0;34m\u001b[0m\n\u001b[1;32m      8\u001b[0m \u001b[38;5;28;01mfrom\u001b[39;00m \u001b[38;5;21;01mplotly\u001b[39;00m\u001b[38;5;21;01m.\u001b[39;00m\u001b[38;5;21;01mutils\u001b[39;00m \u001b[38;5;28;01mimport\u001b[39;00m image_array_to_data_uri\n\u001b[1;32m     10\u001b[0m \u001b[38;5;28;01mtry\u001b[39;00m:\n\u001b[0;32m---> 11\u001b[0m     \u001b[38;5;28;01mimport\u001b[39;00m \u001b[38;5;21;01mxarray\u001b[39;00m\n\u001b[1;32m     13\u001b[0m     xarray_imported \u001b[38;5;241m=\u001b[39m \u001b[38;5;28;01mTrue\u001b[39;00m\n\u001b[1;32m     14\u001b[0m \u001b[38;5;28;01mexcept\u001b[39;00m \u001b[38;5;167;01mImportError\u001b[39;00m:\n",
            "File \u001b[0;32m/anaconda/envs/py38_default/lib/python3.8/site-packages/xarray/__init__.py:1\u001b[0m, in \u001b[0;36m<module>\u001b[0;34m\u001b[0m\n\u001b[0;32m----> 1\u001b[0m \u001b[38;5;28;01mfrom\u001b[39;00m \u001b[38;5;21;01m.\u001b[39;00m \u001b[38;5;28;01mimport\u001b[39;00m testing, tutorial\n\u001b[1;32m      2\u001b[0m \u001b[38;5;28;01mfrom\u001b[39;00m \u001b[38;5;21;01m.\u001b[39;00m\u001b[38;5;21;01mbackends\u001b[39;00m\u001b[38;5;21;01m.\u001b[39;00m\u001b[38;5;21;01mapi\u001b[39;00m \u001b[38;5;28;01mimport\u001b[39;00m (\n\u001b[1;32m      3\u001b[0m     load_dataarray,\n\u001b[1;32m      4\u001b[0m     load_dataset,\n\u001b[0;32m   (...)\u001b[0m\n\u001b[1;32m      8\u001b[0m     save_mfdataset,\n\u001b[1;32m      9\u001b[0m )\n\u001b[1;32m     10\u001b[0m \u001b[38;5;28;01mfrom\u001b[39;00m \u001b[38;5;21;01m.\u001b[39;00m\u001b[38;5;21;01mbackends\u001b[39;00m\u001b[38;5;21;01m.\u001b[39;00m\u001b[38;5;21;01mrasterio_\u001b[39;00m \u001b[38;5;28;01mimport\u001b[39;00m open_rasterio\n",
            "File \u001b[0;32m/anaconda/envs/py38_default/lib/python3.8/site-packages/xarray/testing.py:9\u001b[0m, in \u001b[0;36m<module>\u001b[0;34m\u001b[0m\n\u001b[1;32m      6\u001b[0m \u001b[38;5;28;01mimport\u001b[39;00m \u001b[38;5;21;01mnumpy\u001b[39;00m \u001b[38;5;28;01mas\u001b[39;00m \u001b[38;5;21;01mnp\u001b[39;00m\n\u001b[1;32m      7\u001b[0m \u001b[38;5;28;01mimport\u001b[39;00m \u001b[38;5;21;01mpandas\u001b[39;00m \u001b[38;5;28;01mas\u001b[39;00m \u001b[38;5;21;01mpd\u001b[39;00m\n\u001b[0;32m----> 9\u001b[0m \u001b[38;5;28;01mfrom\u001b[39;00m \u001b[38;5;21;01mxarray\u001b[39;00m\u001b[38;5;21;01m.\u001b[39;00m\u001b[38;5;21;01mcore\u001b[39;00m \u001b[38;5;28;01mimport\u001b[39;00m duck_array_ops, formatting, utils\n\u001b[1;32m     10\u001b[0m \u001b[38;5;28;01mfrom\u001b[39;00m \u001b[38;5;21;01mxarray\u001b[39;00m\u001b[38;5;21;01m.\u001b[39;00m\u001b[38;5;21;01mcore\u001b[39;00m\u001b[38;5;21;01m.\u001b[39;00m\u001b[38;5;21;01mdataarray\u001b[39;00m \u001b[38;5;28;01mimport\u001b[39;00m DataArray\n\u001b[1;32m     11\u001b[0m \u001b[38;5;28;01mfrom\u001b[39;00m \u001b[38;5;21;01mxarray\u001b[39;00m\u001b[38;5;21;01m.\u001b[39;00m\u001b[38;5;21;01mcore\u001b[39;00m\u001b[38;5;21;01m.\u001b[39;00m\u001b[38;5;21;01mdataset\u001b[39;00m \u001b[38;5;28;01mimport\u001b[39;00m Dataset\n",
            "File \u001b[0;32m/anaconda/envs/py38_default/lib/python3.8/site-packages/xarray/core/duck_array_ops.py:26\u001b[0m, in \u001b[0;36m<module>\u001b[0;34m\u001b[0m\n\u001b[1;32m     23\u001b[0m \u001b[38;5;28;01mfrom\u001b[39;00m \u001b[38;5;21;01mnumpy\u001b[39;00m \u001b[38;5;28;01mimport\u001b[39;00m take, tensordot, transpose, unravel_index  \u001b[38;5;66;03m# noqa\u001b[39;00m\n\u001b[1;32m     24\u001b[0m \u001b[38;5;28;01mfrom\u001b[39;00m \u001b[38;5;21;01mnumpy\u001b[39;00m \u001b[38;5;28;01mimport\u001b[39;00m where \u001b[38;5;28;01mas\u001b[39;00m _where\n\u001b[0;32m---> 26\u001b[0m \u001b[38;5;28;01mfrom\u001b[39;00m \u001b[38;5;21;01m.\u001b[39;00m \u001b[38;5;28;01mimport\u001b[39;00m dask_array_compat, dask_array_ops, dtypes, npcompat, nputils\n\u001b[1;32m     27\u001b[0m \u001b[38;5;28;01mfrom\u001b[39;00m \u001b[38;5;21;01m.\u001b[39;00m\u001b[38;5;21;01mnputils\u001b[39;00m \u001b[38;5;28;01mimport\u001b[39;00m nanfirst, nanlast\n\u001b[1;32m     28\u001b[0m \u001b[38;5;28;01mfrom\u001b[39;00m \u001b[38;5;21;01m.\u001b[39;00m\u001b[38;5;21;01mpycompat\u001b[39;00m \u001b[38;5;28;01mimport\u001b[39;00m cupy_array_type, dask_array_type, is_duck_dask_array\n",
            "File \u001b[0;32m/anaconda/envs/py38_default/lib/python3.8/site-packages/xarray/core/dask_array_compat.py:60\u001b[0m, in \u001b[0;36m<module>\u001b[0;34m\u001b[0m\n\u001b[1;32m     56\u001b[0m     \u001b[38;5;28;01mreturn\u001b[39;00m padded\n\u001b[1;32m     59\u001b[0m \u001b[38;5;28;01mif\u001b[39;00m da \u001b[38;5;129;01mis\u001b[39;00m \u001b[38;5;129;01mnot\u001b[39;00m \u001b[38;5;28;01mNone\u001b[39;00m:\n\u001b[0;32m---> 60\u001b[0m     sliding_window_view \u001b[38;5;241m=\u001b[39m \u001b[43mda\u001b[49m\u001b[38;5;241;43m.\u001b[39;49m\u001b[43mlib\u001b[49m\u001b[38;5;241m.\u001b[39mstride_tricks\u001b[38;5;241m.\u001b[39msliding_window_view\n\u001b[1;32m     61\u001b[0m \u001b[38;5;28;01melse\u001b[39;00m:\n\u001b[1;32m     62\u001b[0m     sliding_window_view \u001b[38;5;241m=\u001b[39m \u001b[38;5;28;01mNone\u001b[39;00m\n",
            "\u001b[0;31mAttributeError\u001b[0m: module 'dask.array' has no attribute 'lib'"
          ]
        }
      ],
      "execution_count": 6,
      "metadata": {},
      "id": "0cf8bfcd-dcf3-4aaa-b70b-3507c0a57b2f"
    },
    {
      "cell_type": "markdown",
      "source": [
        "Our SSD method normally does well, but here it did a poor job. The line is a far distance from the values for many years. Why? Notice that the datapoint at the lower left doesn't seem to follow the trend of the other datapoints. 1950 was a very cold winter in Seattle, and this datapoint is strongly influencing our final model (the blue line). What happens if we change the cost function?\r\n",
        "\r\n",
        "### Sum of absolute differences\r\n",
        "\r\n",
        "Let's repeat what we've just done, but using SAD."
      ],
      "metadata": {},
      "id": "58b3a38c-8170-4eec-8375-cd016a227b29"
    },
    {
      "cell_type": "code",
      "source": [
        "# Fit a model with SSD\r\n",
        "# Fit a model by using sum of square differences\r\n",
        "model = MicrosoftCustomLinearRegressor().fit(X = dataset.year, \r\n",
        "                                             y = dataset.min_temperature, \r\n",
        "                                             cost_function = sum_of_absolute_differences)\r\n",
        "\r\n",
        "# Graph the model\r\n",
        "graphing.scatter_2D(dataset, \r\n",
        "                    label_x=\"year\", \r\n",
        "                    label_y=\"min_temperature\", \r\n",
        "                    trendline=model.predict)\r\n"
      ],
      "outputs": [
        {
          "output_type": "error",
          "ename": "NameError",
          "evalue": "name 'graphing' is not defined",
          "traceback": [
            "\u001b[0;31m---------------------------------------------------------------------------\u001b[0m",
            "\u001b[0;31mNameError\u001b[0m                                 Traceback (most recent call last)",
            "Input \u001b[0;32mIn [7]\u001b[0m, in \u001b[0;36m<cell line: 8>\u001b[0;34m()\u001b[0m\n\u001b[1;32m      3\u001b[0m model \u001b[38;5;241m=\u001b[39m MicrosoftCustomLinearRegressor()\u001b[38;5;241m.\u001b[39mfit(X \u001b[38;5;241m=\u001b[39m dataset\u001b[38;5;241m.\u001b[39myear, \n\u001b[1;32m      4\u001b[0m                                              y \u001b[38;5;241m=\u001b[39m dataset\u001b[38;5;241m.\u001b[39mmin_temperature, \n\u001b[1;32m      5\u001b[0m                                              cost_function \u001b[38;5;241m=\u001b[39m sum_of_absolute_differences)\n\u001b[1;32m      7\u001b[0m \u001b[38;5;66;03m# Graph the model\u001b[39;00m\n\u001b[0;32m----> 8\u001b[0m \u001b[43mgraphing\u001b[49m\u001b[38;5;241m.\u001b[39mscatter_2D(dataset, \n\u001b[1;32m      9\u001b[0m                     label_x\u001b[38;5;241m=\u001b[39m\u001b[38;5;124m\"\u001b[39m\u001b[38;5;124myear\u001b[39m\u001b[38;5;124m\"\u001b[39m, \n\u001b[1;32m     10\u001b[0m                     label_y\u001b[38;5;241m=\u001b[39m\u001b[38;5;124m\"\u001b[39m\u001b[38;5;124mmin_temperature\u001b[39m\u001b[38;5;124m\"\u001b[39m, \n\u001b[1;32m     11\u001b[0m                     trendline\u001b[38;5;241m=\u001b[39mmodel\u001b[38;5;241m.\u001b[39mpredict)\n",
            "\u001b[0;31mNameError\u001b[0m: name 'graphing' is not defined"
          ]
        }
      ],
      "execution_count": 7,
      "metadata": {},
      "id": "469c6e58-fc1d-4446-a634-51c5b2e5dd9c"
    },
    {
      "cell_type": "markdown",
      "source": [
        "It's clear that this line passes through the majority of points much better than before, at the expense of almost ignoring the measurement taken in 1950. \r\n",
        "\r\n",
        "In our farming scenario, we're interested in how average temperatures are changing over time. We don't have much interest in 1950 specifically, so for us, this is a better result. In other situations, of course, we might consider this result worse.\r\n",
        "\r\n",
        "\r\n",
        "## Summary\r\n",
        "\r\n",
        "In this exercise, you learned about how changing the cost function that's used during fitting can result in different final results. \r\n",
        "\r\n",
        "You also learned how this behavior happens because these cost functions describe the \"best\" way to fit a model. Although from a data analyst's point of view, there can be drawbacks no matter which cost function is chosen."
      ],
      "metadata": {},
      "id": "539a5fbe-be20-4095-a495-5058aa210c22"
    }
  ],
  "metadata": {
    "kernelspec": {
      "name": "conda-env-py38_default-py",
      "language": "python",
      "display_name": "py38_default"
    },
    "language_info": {
      "name": "python",
      "version": "3.8.13",
      "mimetype": "text/x-python",
      "codemirror_mode": {
        "name": "ipython",
        "version": 3
      },
      "pygments_lexer": "ipython3",
      "nbconvert_exporter": "python",
      "file_extension": ".py"
    },
    "kernel_info": {
      "name": "conda-env-py38_default-py"
    },
    "nteract": {
      "version": "nteract-front-end@1.0.0"
    }
  },
  "nbformat": 4,
  "nbformat_minor": 5
}
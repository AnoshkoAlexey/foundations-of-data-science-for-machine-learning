{
  "cells": [
    {
      "cell_type": "markdown",
      "source": [
        "# Exercise: Gradient descent\r\n",
        "\r\n",
        "Previously, we identified trends in winter temperatures by fitting a linear regression model to weather data. Here, we'll repeat this process by focusing on the optimizer. Specifically, we'll work with batch gradient descent and explore how changing the learning rate can alter its behavior.\r\n",
        "\r\n",
        "The model we'll be working with will be the same linear regression model that we've used in other units. The principles we learn, however, also apply to much more complex models.\r\n",
        "\r\n",
        "## Loading data and preparing our model\r\n",
        "\r\n",
        "Let's load up our weather data from Seattle, filter to January temperatures, and make slight adjustments so that the dates are mathematically interpretable."
      ],
      "metadata": {}
    },
    {
      "cell_type": "code",
      "source": [
        "from datetime import datetime\r\n",
        "import pandas\r\n",
        "!pip install statsmodels\r\n",
        "!wget https://raw.githubusercontent.com/MicrosoftDocs/mslearn-introduction-to-machine-learning/main/graphing.py\r\n",
        "!wget https://raw.githubusercontent.com/MicrosoftDocs/mslearn-introduction-to-machine-learning/main/Data/seattleWeather_1948-2017.csv\r\n",
        "import graphing # Custom graphing code. See our GitHub repository\r\n",
        "\r\n",
        "# Load a file that contains weather data for Seattle\r\n",
        "data = pandas.read_csv('seattleWeather_1948-2017.csv', parse_dates=['date'])\r\n",
        "\r\n",
        "# Remove all dates after July 1 because we have to to plant onions before summer begins\r\n",
        "data = data[[d.month < 7 for d in data.date]].copy()\r\n",
        "\r\n",
        "\r\n",
        "# Convert the dates into numbers so we can use them in our models\r\n",
        "# We make a year column that can contain fractions. For example,\r\n",
        "# 1948.5 is halfway through the year 1948\r\n",
        "data[\"year\"] = [(d.year + d.timetuple().tm_yday / 365.25) for d in data.date]\r\n",
        "\r\n",
        "# Let's take a quick look at our data\r\n",
        "print(\"Visual Check:\")\r\n",
        "graphing.scatter_2D(data, \r\n",
        "                    label_x=\"year\", \r\n",
        "                    label_y=\"min_temperature\",\r\n",
        "                    title=\"Temperatures over time (°F)\")\r\n"
      ],
      "outputs": [],
      "execution_count": null,
      "metadata": {}
    },
    {
      "cell_type": "markdown",
      "source": [
        "## Fitting a model automatically\r\n",
        "\r\n",
        "Let's fit a line to this data well by using an existing library."
      ],
      "metadata": {}
    },
    {
      "cell_type": "code",
      "source": [
        "import statsmodels.formula.api as smf\r\n",
        "\r\n",
        "# Perform linear regression to fit a line to our data\r\n",
        "# NB OLS uses the sum or mean of squared differences as a cost function,\r\n",
        "# which we're familiar with from our last exercise \r\n",
        "model = smf.ols(formula = \"min_temperature ~ year\", data = data).fit()\r\n",
        "\r\n",
        "# Print the model\r\n",
        "intercept = model.params[0]\r\n",
        "slope = model.params[1]\r\n",
        "\r\n",
        "print(f\"The model is: y = {slope:0.3f} * X + {intercept:0.3f}\")"
      ],
      "outputs": [],
      "execution_count": null,
      "metadata": {}
    },
    {
      "cell_type": "markdown",
      "source": [
        "Ooh, some math! Don't let that bother you. It's quite common for labels and features to be referred to as `Y` and `X`, respectively.\r\n",
        "Here:\r\n",
        "* `Y` is temperature (°F).\r\n",
        "* `X` is year.\r\n",
        "* -83 is a _model parameter_ that acts as the line offset. \r\n",
        "* 0.063 is a _model parameter_ that defines the line slope (in °F per year).\r\n",
        "\r\n",
        "So this little equation states that the model estimates temperature by multiplying the year by `0.063` and then subtracting `83`.\r\n",
        "\r\n",
        "How did the library calculate these values? Let's go through the process.\r\n",
        "\r\n",
        "## Model selection\r\n",
        "\r\n",
        "The first step is always selecting a model. Let's reuse the model that we used in previous exercises."
      ],
      "metadata": {}
    },
    {
      "cell_type": "code",
      "source": [
        "class MyModel:\r\n",
        "\r\n",
        "    def __init__(self):\r\n",
        "        '''\r\n",
        "        Creates a new MyModel\r\n",
        "        '''\r\n",
        "        # Straight lines described by two parameters:\r\n",
        "        # The slope is the angle of the line\r\n",
        "        self.slope = 0\r\n",
        "        # The intercept moves the line up or down\r\n",
        "        self.intercept = 0\r\n",
        "\r\n",
        "    def predict(self, date):\r\n",
        "        '''\r\n",
        "        Estimates the temperature from the date\r\n",
        "        '''\r\n",
        "        return date * self.slope + self.intercept\r\n",
        "\r\n",
        "    def get_summary(self):\r\n",
        "        '''\r\n",
        "        Returns a string that summarises the model\r\n",
        "        '''\r\n",
        "        return f\"y = {self.slope} * x + {self.intercept}\"\r\n",
        "\r\n",
        "print(\"Model class ready\")"
      ],
      "outputs": [],
      "execution_count": null,
      "metadata": {}
    },
    {
      "cell_type": "markdown",
      "source": [
        "## Fitting our model with gradient descent\r\n",
        "\r\n",
        "The automatic method used the _ordinary least squares_ (OLS) method, which is the standard way to fit a line. OLS uses the mean (or sum) of square differences as a cost function. (Recall our experimentation with the sum of squared differences in the last exercise.) Let's replicate the preceding line fitting, and break down each step so we can watch it in action.\r\n",
        "\r\n",
        "Recall that for each iteration, our training conducts three steps: \r\n",
        "\r\n",
        "1. Estimation of `Y` (temperature) from `X` (year).\r\n",
        "\r\n",
        "2. Calculation of the cost function and its slope.\r\n",
        "\r\n",
        "3. Adjustment of our model according to this slope.\r\n",
        "\r\n",
        "Let's implement this now to watch it in action. Note that *to keep things simple, we'll focus on estimating one parameter (line slope) for now*.\r\n",
        "\r\n",
        "### Visualizing the error function\r\n",
        "\r\n",
        "First, let's look at the error function for this data. Normally we don't know this in advance, but for learning purposes, let's calculate it now for different potential models."
      ],
      "metadata": {}
    },
    {
      "cell_type": "code",
      "source": [
        "import numpy as np\r\n",
        "\r\n",
        "x = data.year\r\n",
        "temperature_true = data.min_temperature\r\n",
        "\r\n",
        "# We'll use a prebuilt method to show a 3D plot\r\n",
        "# This requires a range of x values, a range of y values,\r\n",
        "# and a way to calculate z\r\n",
        "# Here, we set:\r\n",
        "#   x to a range of potential model intercepts\r\n",
        "#   y to a range of potential model slopes\r\n",
        "#   z as the cost for that combination of model parameters   \r\n",
        "\r\n",
        "# Choose a range of intercepts and slopes values\r\n",
        "intercepts = np.linspace(-100,-70,10)\r\n",
        "slopes = np.linspace(0.060,0.07,10)\r\n",
        "\r\n",
        "\r\n",
        "# Set a cost function. This will be the mean of squared differences\r\n",
        "def cost_function(temperature_estimate):\r\n",
        "    \"\"\"\r\n",
        "    Calculates cost for a given temperature estimate\r\n",
        "    Our cost function is the mean of squared differences (a.k.a. mean squared error)\r\n",
        "    \"\"\"\r\n",
        "    # Note that with NumPy to square each value, we use **\r\n",
        "    return np.mean((temperature_true - temperature_estimate) ** 2)\r\n",
        "\r\n",
        "def predict_and_calc_cost(intercept, slope):\r\n",
        "    '''\r\n",
        "    Uses the model to make a prediction, then calculates the cost \r\n",
        "    '''\r\n",
        "\r\n",
        "    # Predict temperature by using these model parameters\r\n",
        "    temperature_estimate = x * slope + intercept\r\n",
        "\r\n",
        "    # Calculate cost\r\n",
        "    return cost_function(temperature_estimate)\r\n",
        "\r\n",
        "# Call the graphing method. This will use our cost function,\r\n",
        "# which is above. If you want to view this code in detail,\r\n",
        "# then see this project's GitHub repository\r\n",
        "graphing.surface(x_values=intercepts, \r\n",
        "                y_values=slopes, \r\n",
        "                calc_z=predict_and_calc_cost, \r\n",
        "                title=\"Cost for Different Model Parameters\",\r\n",
        "                axis_title_x=\"Model intercept\",\r\n",
        "                axis_title_y=\"Model slope\",\r\n",
        "                axis_title_z=\"Cost\")"
      ],
      "outputs": [],
      "execution_count": null,
      "metadata": {}
    },
    {
      "cell_type": "markdown",
      "source": [
        "The preceding graph is interactive. Try clicking and dragging the mouse to rotate it.\r\n",
        "\r\n",
        "Notice how cost changes with both intercept and line slope. This is because our model has a slope and an intercept, which both will affect how well the line fits the data. A consequence is that the gradient of the cost function must also be described by two numbers: one for intercept and one for line slope.\r\n",
        "\r\n",
        "Our lowest point on the graph is the location of the best line equation for our data: a slope of 0.063 and an intercept of -83. Let's try to train a model to find this point.\r\n",
        "\r\n",
        "### Implementing gradient descent\r\n",
        "\r\n",
        "To implement gradient descent, we need a method that can calculate the gradient of the preceding curve. "
      ],
      "metadata": {}
    },
    {
      "cell_type": "code",
      "source": [
        "def calculate_gradient(temperature_estimate):\r\n",
        "    \"\"\"\r\n",
        "    This calculates the gradient for a linear regession \r\n",
        "    by using the Mean Squared Error cost function\r\n",
        "    \"\"\"\r\n",
        "\r\n",
        "    # The partial derivatives of MSE are as follows\r\n",
        "    # You don't need to be able to do this just yet, but\r\n",
        "    # it's important to note that these give you the two gradients\r\n",
        "    # that we need to train our model\r\n",
        "    error = temperature_estimate - temperature_true\r\n",
        "    grad_intercept = np.mean(error) * 2\r\n",
        "    grad_slope = (x * error).mean() * 2\r\n",
        "\r\n",
        "    return grad_intercept, grad_slope\r\n",
        "\r\n",
        "print(\"Function is ready!\")"
      ],
      "outputs": [],
      "execution_count": null,
      "metadata": {}
    },
    {
      "cell_type": "markdown",
      "source": [
        "Now all we need is a starting guess, and a loop that will update this guess with each iteration."
      ],
      "metadata": {}
    },
    {
      "cell_type": "code",
      "source": [
        "def gradient_descent(learning_rate, number_of_iterations):\r\n",
        "    \"\"\"\r\n",
        "    Performs gradient descent for a one-variable function. \r\n",
        "\r\n",
        "    learning_rate: Larger numbers follow the gradient more aggressively\r\n",
        "    number_of_iterations: The maximum number of iterations to perform\r\n",
        "    \"\"\"\r\n",
        "\r\n",
        "    # Our starting guess is y = 0 * x - 83\r\n",
        "    # We're going to start with the correct intercept so that \r\n",
        "    # only the line's slope is estimated. This is just to keep\r\n",
        "    # things simple for this exercise\r\n",
        "    model = MyModel()\r\n",
        "    model.intercept = -83\r\n",
        "    model.slope = 0\r\n",
        "\r\n",
        "    for i in range(number_of_iterations):\r\n",
        "        # Calculate the predicted values\r\n",
        "        predicted_temperature = model.predict(x)\r\n",
        "\r\n",
        "        # == OPTIMIZER ===\r\n",
        "        # Calculate the gradient\r\n",
        "        _, grad_slope = calculate_gradient(predicted_temperature)\r\n",
        "        # Update the estimation of the line\r\n",
        "        model.slope -= learning_rate * grad_slope\r\n",
        "\r\n",
        "        # Print the current estimation and cost every 100 iterations\r\n",
        "        if( i % 100 == 0):\r\n",
        "            estimate = model.predict(x)\r\n",
        "            cost = cost_function(estimate)\r\n",
        "            print(\"Next estimate:\", model.get_summary(), f\"Cost: {cost}\")\r\n",
        "\r\n",
        "    # Print the final model\r\n",
        "    print(f\"Final estimate:\", model.get_summary())\r\n",
        "\r\n",
        "# Run gradient descent\r\n",
        "gradient_descent(learning_rate=1E-9, number_of_iterations=1000)"
      ],
      "outputs": [],
      "execution_count": null,
      "metadata": {
        "tags": []
      }
    },
    {
      "cell_type": "markdown",
      "source": [
        "Our model found the correct answer, but it took a number of steps. Looking at the printout, we can see how it progressively stepped toward the correct solution.\r\n",
        "\r\n",
        "Now, what happens if we make the learning rate faster? This means taking larger steps."
      ],
      "metadata": {}
    },
    {
      "cell_type": "code",
      "source": [
        "gradient_descent(learning_rate=1E-8, number_of_iterations=200)"
      ],
      "outputs": [],
      "execution_count": null,
      "metadata": {}
    },
    {
      "cell_type": "markdown",
      "source": [
        "Our model appears to have found the solution faster. If we increase the rate even more, however, things don't go so well:"
      ],
      "metadata": {}
    },
    {
      "cell_type": "code",
      "source": [
        "gradient_descent(learning_rate=5E-7, number_of_iterations=500)"
      ],
      "outputs": [],
      "execution_count": null,
      "metadata": {}
    },
    {
      "cell_type": "markdown",
      "source": [
        "Notice how the cost is getting worse each time.\r\n",
        "\r\n",
        "This is because the steps that the model was taking were too large. Although it would step toward the correct solution, it would step too far and actually get worse with each attempt.\r\n",
        "\r\n",
        "For each model, there's an ideal learning rate. It requires experimentation.\r\n",
        "\r\n",
        "## Fitting multiple variables simultaneously\r\n",
        "\r\n",
        "We've just fit one variable here to keep things simple. Expanding this to fit multiple variables requires only a few small code changes:\r\n",
        "\r\n",
        "* We need to update more than one variable in the gradient descent loop.\r\n",
        "\r\n",
        "* We need to do some preprocessing of the data, which we alluded to in an earlier exercise. We'll cover how and why in later learning material. \r\n",
        "\r\n",
        "## Summary\r\n",
        "\r\n",
        "Well done! In this unit, we:\r\n",
        "\r\n",
        "* Watched gradient descent in action.\r\n",
        "\r\n",
        "* Saw how changing the learning rate can improve a model's training speed.\r\n",
        "\r\n",
        "* Learned that changing the learning rate can also result in unstable models.\r\n",
        "\r\n",
        "You might have noticed that where the cost function stopped and the optimizer began became a little blurred here. Don't let that bother you. This is happens commonly, simply because they're conceptually separate and their mathematics sometimes can become intertwined."
      ],
      "metadata": {}
    }
  ],
  "metadata": {
    "kernelspec": {
      "name": "conda-env-py38_default-py",
      "language": "python",
      "display_name": "py38_default"
    },
    "language_info": {
      "name": "python",
      "version": "3.7.9",
      "mimetype": "text/x-python",
      "codemirror_mode": {
        "name": "ipython",
        "version": 3
      },
      "pygments_lexer": "ipython3",
      "nbconvert_exporter": "python",
      "file_extension": ".py"
    },
    "kernel_info": {
      "name": "conda-env-py38_default-py"
    },
    "nteract": {
      "version": "nteract-front-end@1.0.0"
    }
  },
  "nbformat": 4,
  "nbformat_minor": 2
}
{
  "cells": [
    {
      "cell_type": "markdown",
      "source": [
        "# Exercise: Supervised learning\r\n",
        "\r\n",
        "Recall our farming scenario, in which we want to look at how January temperatures have changed over time. Now we'll build a model that achieves this by using supervised learning. \r\n",
        "\r\n",
        "With many libraries, we can build a model in only a few lines of code. Here, we'll break down the process into steps so that we can explore how things work.\r\n",
        "\r\n",
        "## Four components\r\n",
        "Recall that there are four key components to supervised learning: the data, the model, the cost function, and the optimizer. Let's inspect these one at a time.\r\n",
        "\r\n",
        "### 1. The data\r\n",
        "\r\n",
        "We'll use publicly available weather data for Seattle. Let's load that and restrict it to January temperatures."
      ],
      "metadata": {},
      "id": "410a6e9a-26aa-4894-8bd1-9c46e86ceec5"
    },
    {
      "cell_type": "code",
      "source": [
        "import pandas\r\n",
        "!wget https://raw.githubusercontent.com/MicrosoftDocs/mslearn-introduction-to-machine-learning/main/graphing.py\r\n",
        "!wget https://raw.githubusercontent.com/MicrosoftDocs/mslearn-introduction-to-machine-learning/main/m0b_optimizer.py\r\n",
        "!wget https://raw.githubusercontent.com/MicrosoftDocs/mslearn-introduction-to-machine-learning/main/Data/seattleWeather_1948-2017.csv\r\n",
        "\r\n",
        "# Load a file that contains weather data for Seattle\r\n",
        "data = pandas.read_csv('seattleWeather_1948-2017.csv', parse_dates=['date'])\r\n",
        "\r\n",
        "# Keep only January temperatures\r\n",
        "data = data[[d.month == 1 for d in data.date]].copy()\r\n",
        "\r\n",
        "\r\n",
        "# Print the first and last few rows\r\n",
        "# Remember that with Jupyter notebooks, the last line of \r\n",
        "# code is automatically printed\r\n",
        "data"
      ],
      "outputs": [],
      "execution_count": null,
      "metadata": {},
      "id": "9a393480-bf1b-439e-976d-33f8a57c2f55"
    },
    {
      "cell_type": "markdown",
      "source": [
        "We have data from 1948 to 2017, split across 2,170 rows. \r\n",
        "\r\n",
        "We'll analyze the relationship between `date` and daily minimum temperatures. Let's take a quick look at our data as a graph. \r\n"
      ],
      "metadata": {},
      "id": "bb0818f5-2851-4b53-b1fa-c969aea7f74a"
    },
    {
      "cell_type": "code",
      "source": [
        "import graphing # Custom graphing code. See our GitHub repository for details\r\n",
        "\r\n",
        "# Let's take a quick look at our data\r\n",
        "graphing.scatter_2D(data, label_x=\"date\", label_y=\"min_temperature\", title=\"January Temperatures (°F)\")"
      ],
      "outputs": [],
      "execution_count": null,
      "metadata": {},
      "id": "6e80dd88-1f14-47b8-8762-e1d60c25f389"
    },
    {
      "cell_type": "markdown",
      "source": [
        "Machine learning usually works best when the X and Y axes have roughly the same range of values. We'll cover why in later learning material. For now, let's just scale our data slightly."
      ],
      "metadata": {},
      "id": "5fcccad7-eb82-4630-a375-a305f77eb4ba"
    },
    {
      "cell_type": "code",
      "source": [
        "import numpy as np\r\n",
        "\r\n",
        "# This block of code scales and offsets the data slightly, which helps the training process\r\n",
        "# You don't need to understand this code. We'll cover these concepts in later learning material\r\n",
        "\r\n",
        "# Offset date into number of years since 1982\r\n",
        "data[\"years_since_1982\"] = [(d.year + d.timetuple().tm_yday / 365.25) - 1982 for d in data.date]\r\n",
        "\r\n",
        "# Scale and offset temperature so that it has a smaller range of values\r\n",
        "data[\"normalised_temperature\"] = (data[\"min_temperature\"] - np.mean(data[\"min_temperature\"])) / np.std(data[\"min_temperature\"])\r\n",
        "\r\n",
        "# Graph\r\n",
        "graphing.scatter_2D(data, label_x=\"years_since_1982\", label_y=\"normalised_temperature\", title=\"January Temperatures (Normalised)\")\r\n"
      ],
      "outputs": [],
      "execution_count": null,
      "metadata": {},
      "id": "28a6f4f2-24f8-4edc-a3b6-c21f3d9bfc15"
    },
    {
      "cell_type": "markdown",
      "source": [
        "### 2. The model\r\n",
        "\r\n",
        "We'll select a simple linear regression model. This model uses a line to make estimates. You might have come across trendlines like these before when making graphs."
      ],
      "metadata": {},
      "id": "e7f2ff5d-827e-4b2e-bbac-390928f9984d"
    },
    {
      "cell_type": "code",
      "source": [
        "class MyModel:\r\n",
        "\r\n",
        "    def __init__(self):\r\n",
        "        '''\r\n",
        "        Creates a new MyModel\r\n",
        "        '''\r\n",
        "        # Straight lines described by two parameters:\r\n",
        "        # The slope is the angle of the line\r\n",
        "        self.slope = 0\r\n",
        "        # The intercept moves the line up or down\r\n",
        "        self.intercept = 0\r\n",
        "\r\n",
        "    def predict(self, date):\r\n",
        "        '''\r\n",
        "        Estimates the temperature from the date\r\n",
        "        '''\r\n",
        "        return date * self.slope + self.intercept\r\n",
        "\r\n",
        "# Create our model ready to be trained\r\n",
        "model = MyModel()\r\n",
        "\r\n",
        "print(\"Model made!\")"
      ],
      "outputs": [],
      "execution_count": null,
      "metadata": {},
      "id": "34d97fb4-d302-47ab-987d-794dba3d8b7d"
    },
    {
      "cell_type": "markdown",
      "source": [
        "We wouldn't normally use a model before it has been trained, but for the sake of learning, let's take a quick look at it."
      ],
      "metadata": {},
      "id": "549d9b3a-15d4-458e-a28a-93af26cba5f6"
    },
    {
      "cell_type": "code",
      "source": [
        "print(f\"Model parameters before training: {model.intercept}, {model.slope}\")\r\n",
        "\r\n",
        "# Look at how well the model does before training\r\n",
        "print(\"Model visualised before training:\")\r\n",
        "graphing.scatter_2D(data, \"years_since_1982\", \"normalised_temperature\", trendline=model.predict)   "
      ],
      "outputs": [],
      "execution_count": null,
      "metadata": {},
      "id": "196d42cc-07f5-4fde-b9ef-aeb9c724f852"
    },
    {
      "cell_type": "markdown",
      "source": [
        "You can see that before training, our model (the red line) isn't useful at all. It always simply predicts zero.\r\n",
        "\r\n",
        "### 3. The cost (objective) function\r\n",
        "\r\n",
        "Our next step is to create a _cost function_ (_objective function_).\r\n",
        "\r\n",
        "These functions in supervised learning compare the model's estimate to the correct answer. In our case, our label is temperature, so our cost function will compare the estimated temperature to temperatures seen in the historical records."
      ],
      "metadata": {},
      "id": "407d0ddf-08a1-45a4-a6b3-9606226c21b5"
    },
    {
      "cell_type": "code",
      "source": [
        "def cost_function(actual_temperatures, estimated_temperatures):\r\n",
        "    '''\r\n",
        "    Calculates the difference between actual and estimated temperatures\r\n",
        "    Returns the difference, and also returns the squared difference (the cost)\r\n",
        "\r\n",
        "    actual_temperatures: One or more temperatures recorded in the past\r\n",
        "    estimated_temperatures: Corresponding temperature(s) estimated by the model\r\n",
        "    '''\r\n",
        "\r\n",
        "    # Calculate the difference between actual temperatures and those\r\n",
        "    # estimated by the model\r\n",
        "    difference = estimated_temperatures - actual_temperatures\r\n",
        "\r\n",
        "    # Convert to a single number that tells us how well the model did\r\n",
        "    # (smaller numbers are better)\r\n",
        "    cost = sum(difference ** 2)\r\n",
        "\r\n",
        "    return difference, cost"
      ],
      "outputs": [],
      "execution_count": null,
      "metadata": {},
      "id": "3efb69ae-b9bb-4ff7-960d-296ddee7c74e"
    },
    {
      "cell_type": "markdown",
      "source": [
        "### 4. The optimizer\r\n",
        "\r\n",
        "The role of the optimizer is to guess new parameter values for the model. \r\n",
        "\r\n",
        "We haven't covered optimizers in detail yet, so to make things simple, we'll use an prewritten optimizer. You don't need to understand how this works, but if you're curious, you can find it in our GitHub repository. "
      ],
      "metadata": {},
      "id": "f4fcaf01-a1fb-485a-8eb4-05c6801fc0c8"
    },
    {
      "cell_type": "code",
      "source": [
        "from m0b_optimizer import MyOptimizer\r\n",
        "\r\n",
        "# Create an optimizer\r\n",
        "optimizer = MyOptimizer()"
      ],
      "outputs": [],
      "execution_count": null,
      "metadata": {},
      "id": "b75aca1e-af1e-4110-8c77-768e0072bf77"
    },
    {
      "cell_type": "markdown",
      "source": [
        "## The training loop\r\n",
        "\r\n",
        "Let's put these components together so that they train the model. \r\n",
        "\r\n",
        "First, let's make a function that performs one iteration of training. Read each step carefully in the following code. If you want, add some `print()` statements inside the method to help you see the training in action."
      ],
      "metadata": {},
      "id": "099cf22f-889f-495a-a32a-e533aa12c418"
    },
    {
      "cell_type": "code",
      "source": [
        "def train_one_iteration(model_inputs, true_temperatures, last_cost:float):\r\n",
        "    '''\r\n",
        "    Runs a single iteration of training.\r\n",
        "\r\n",
        "\r\n",
        "    model_inputs: One or more dates to provide the model (dates)\r\n",
        "    true_temperatues: Corresponding temperatures known to occur on those dates\r\n",
        "\r\n",
        "    Returns:\r\n",
        "        A Boolean, as to whether training should continue\r\n",
        "        The cost calculated (small numbers are better)\r\n",
        "    '''\r\n",
        "\r\n",
        "    # === USE THE MODEL ===\r\n",
        "    # Estimate temperatures for all data that we have\r\n",
        "    estimated_temperatures = model.predict(model_inputs)\r\n",
        "\r\n",
        "    # === OBJECTIVE FUNCTION ===\r\n",
        "    # Calculate how well the model is working\r\n",
        "    # Smaller numbers are better \r\n",
        "    difference, cost = cost_function(true_temperatures, estimated_temperatures)\r\n",
        "\r\n",
        "    # Decide whether to keep training\r\n",
        "    # We'll stop if the training is no longer improving the model effectively\r\n",
        "    if cost >= last_cost:\r\n",
        "        # Stop training\r\n",
        "        return False, cost\r\n",
        "    else:\r\n",
        "        # === OPTIMIZER ===\r\n",
        "        # Calculate updates to parameters\r\n",
        "        intercept_update, slope_update = optimizer.get_parameter_updates(model_inputs, cost, difference)\r\n",
        "\r\n",
        "        # Change the model parameters\r\n",
        "        model.slope += slope_update\r\n",
        "        model.intercept += intercept_update\r\n",
        "\r\n",
        "        return True, cost\r\n",
        "\r\n",
        "print(\"Training method ready\")"
      ],
      "outputs": [],
      "execution_count": null,
      "metadata": {},
      "id": "ec4b7bea-4ca8-41c9-83f5-f7a08bcabb60"
    },
    {
      "cell_type": "markdown",
      "source": [
        "Let's run a few iterations manually, so that you can watch how training works.\r\n",
        "\r\n",
        "Run the following code several times, and note how the model changes."
      ],
      "metadata": {},
      "id": "b58432f5-1764-40b9-8f6c-6d5926d5cd35"
    },
    {
      "cell_type": "code",
      "source": [
        "import math\r\n",
        "\r\n",
        "print(f\"Model parameters before training:\\t\\t{model.intercept:.8f},\\t{model.slope:.8f}\")\r\n",
        "\r\n",
        "continue_loop, cost = train_one_iteration(model_inputs = data[\"years_since_1982\"],\r\n",
        "                                                    true_temperatures = data[\"normalised_temperature\"],\r\n",
        "                                                    last_cost = math.inf)\r\n",
        "\r\n",
        "print(f\"Model parameters after 1 iteration of training:\\t{model.intercept:.8f},\\t{model.slope:.8f}\")\r\n"
      ],
      "outputs": [],
      "execution_count": null,
      "metadata": {},
      "id": "154909b3-998c-4e14-a883-392313fcda38"
    },
    {
      "cell_type": "markdown",
      "source": [
        "It will take thousands of iterations to train the model well, so let's wrap it in a loop."
      ],
      "metadata": {},
      "id": "3850521b-03cc-49e2-891f-2d9527a7af58"
    },
    {
      "cell_type": "code",
      "source": [
        "\r\n",
        "# Start the loop\r\n",
        "print(\"Training beginning...\")\r\n",
        "last_cost = math.inf\r\n",
        "i = 0\r\n",
        "continue_loop = True\r\n",
        "while continue_loop:\r\n",
        "\r\n",
        "    # Run one iteration of training\r\n",
        "    # This will tell us whether to stop training, and also what\r\n",
        "    # the cost was for this iteration\r\n",
        "    continue_loop, last_cost = train_one_iteration(model_inputs = data[\"years_since_1982\"],\r\n",
        "                                                    true_temperatures = data[\"normalised_temperature\"],\r\n",
        "                                                    last_cost = last_cost)\r\n",
        "   \r\n",
        "    # Print the status\r\n",
        "    if i % 400 == 0:\r\n",
        "        print(\"Iteration:\", i)\r\n",
        "\r\n",
        "    i += 1\r\n",
        "\r\n",
        "    \r\n",
        "print(\"Training complete!\")\r\n",
        "print(f\"Model parameters after training:\\t{model.intercept:.8f},\\t{model.slope:.8f}\")\r\n",
        "graphing.scatter_2D(data, \"years_since_1982\", \"normalised_temperature\", trendline=model.predict)    "
      ],
      "outputs": [],
      "execution_count": null,
      "metadata": {
        "tags": []
      },
      "id": "252c25a6-6a1c-410a-b1df-e1fa173fdbf3"
    },
    {
      "cell_type": "markdown",
      "source": [
        "Notice how now the model is trained. It's giving more sensible predictions about January temperatures.\r\n",
        "\r\n",
        "Interestingly, the model shows temperatures going up over time. Perhaps we need to stop feeding grain to our elk earlier in the year!\r\n",
        "\r\n",
        "## Summary\r\n",
        "\r\n",
        "In this exercise, we split up supervised learning into its individual stages to see what's going on in code when we use third-party libraries. The important point to take away is how these pieces fit together. Note that most parts of this process require data."
      ],
      "metadata": {},
      "id": "a32b7673-dd7d-4177-b915-5a9218c3385b"
    }
  ],
  "metadata": {
    "kernelspec": {
      "name": "conda-env-py38_default-py",
      "language": "python",
      "display_name": "py38_default"
    },
    "language_info": {
      "name": "python",
      "version": "3.7.9",
      "mimetype": "text/x-python",
      "codemirror_mode": {
        "name": "ipython",
        "version": 3
      },
      "pygments_lexer": "ipython3",
      "nbconvert_exporter": "python",
      "file_extension": ".py"
    },
    "kernel_info": {
      "name": "conda-env-py38_default-py"
    },
    "nteract": {
      "version": "nteract-front-end@1.0.0"
    }
  },
  "nbformat": 4,
  "nbformat_minor": 5
}